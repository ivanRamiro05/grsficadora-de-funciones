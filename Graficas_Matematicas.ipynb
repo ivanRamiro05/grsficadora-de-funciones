{
  "nbformat": 4,
  "nbformat_minor": 0,
  "metadata": {
    "colab": {
      "provenance": [],
      "authorship_tag": "ABX9TyPCjRxefuouPP0wz2jA4+nE",
      "include_colab_link": true
    },
    "kernelspec": {
      "name": "python3",
      "display_name": "Python 3"
    },
    "language_info": {
      "name": "python"
    }
  },
  "cells": [
    {
      "cell_type": "markdown",
      "metadata": {
        "id": "view-in-github",
        "colab_type": "text"
      },
      "source": [
        "<a href=\"https://colab.research.google.com/github/ivanRamiro05/grsficadora-de-funciones/blob/main/Graficas_Matematicas.ipynb\" target=\"_parent\"><img src=\"https://colab.research.google.com/assets/colab-badge.svg\" alt=\"Open In Colab\"/></a>"
      ]
    },
    {
      "cell_type": "markdown",
      "source": [
        "GRAFICAS MATEMATICAS CON MATPLOTLIB\n"
      ],
      "metadata": {
        "id": "QaYJxDNZ2d8n"
      }
    },
    {
      "cell_type": "code",
      "source": [
        "# importamos las libreria y las funciones requeridas\n",
        "from matplotlib.pyplot import plot , show,xlim, ylim, xticks, legend, figure, subplot\n",
        "import numpy as np\n"
      ],
      "metadata": {
        "id": "Fo3JUC1b2mPV"
      },
      "execution_count": 62,
      "outputs": []
    },
    {
      "cell_type": "code",
      "source": [
        "# grafica de una lista\n",
        "y=[1,2,2,5,3]\n",
        "plot(y,\"*\")\n",
        "show()"
      ],
      "metadata": {
        "id": "RQOmfQay4Bx1"
      },
      "execution_count": null,
      "outputs": []
    },
    {
      "cell_type": "code",
      "source": [
        "# grafica de una Función\n",
        "x=[1,2,3,4,5]\n",
        "y=[1,2,2,5,3]\n",
        "xlim(-5,10)\n",
        "ylim(0,6)\n",
        "plot(x,y,\"*\")\n",
        "show()"
      ],
      "metadata": {
        "id": "wW9E-RUW5ECr"
      },
      "execution_count": null,
      "outputs": []
    },
    {
      "cell_type": "code",
      "source": [
        "# Gráfica de una función trigonométrica\n",
        "x = linspace(-10*pi,10*pi,2560)\n",
        "y = sin(x)\n",
        "plot(x,y)\n",
        "ylim(-2,2)\n",
        "show()"
      ],
      "metadata": {
        "id": "ZuLbewTX6FO7"
      },
      "execution_count": null,
      "outputs": []
    },
    {
      "cell_type": "code",
      "source": [
        "# Gráfica de una función trigonométrica\n",
        "x = linspace(-10*pi,10*pi,2560)\n",
        "y = sin(x)\n",
        "plot(x,y)\n",
        "ylim(-2,2)\n",
        "xticks([-pi,-pi/2,0,pi/2,pi],[r'$-\\pi$',r'$-\\pi/2$', r'$0$', r'$\\pi/2$', r'$\\pi$'])\n",
        "show()"
      ],
      "metadata": {
        "id": "AA6woAsd93Tw"
      },
      "execution_count": null,
      "outputs": []
    },
    {
      "cell_type": "code",
      "source": [
        "# Gráfica de una función trigonométrica\n",
        "x = linspace(-pi,pi,256)\n",
        "y = sin(x)\n",
        "z=cos(x)\n",
        "plot (x,y,label=\"seno\")\n",
        "plot (x,z,label=\"coseno\")\n",
        "legend(loc=\"upper left\")\n",
        "plot(x,y)\n",
        "ylim(-2,2)\n",
        "xticks([-pi,-pi/2,0,pi/2,pi],[r'$-\\pi$',r'$-\\pi/2$', r'$0$', r'$\\pi/2$', r'$\\pi$'])\n",
        "show()"
      ],
      "metadata": {
        "id": "F6Rs6TAb-w5h"
      },
      "execution_count": null,
      "outputs": []
    },
    {
      "cell_type": "code",
      "source": [
        "# Gráfica de una función trigonométrica\n",
        "x = linspace(-pi,pi,256)\n",
        "y = sin(x)\n",
        "z = cos(x)\n",
        "\n",
        "# figura I\n",
        "a = figure(2)\n",
        "subplot(2,1,1)\n",
        "plot (x,y,label=\"seno\")\n",
        "legend(loc=\"upper left\")\n",
        "\n",
        "b=figure(20)\n",
        "subplot(2,1,2)\n",
        "plot (x,z,label=\"coseno\")\n",
        "legend(loc=\"upper left\")\n",
        "\n",
        "\n",
        "ylim(-2,2)\n",
        "xticks([-pi,-pi/2,0,pi/2,pi],[r'$-\\pi$',r'$-\\pi/2$', r'$0$', r'$\\pi/2$', r'$\\pi$'])\n",
        "show()"
      ],
      "metadata": {
        "id": "wHUA2vb__pbH"
      },
      "execution_count": null,
      "outputs": []
    },
    {
      "cell_type": "code",
      "source": [
        "# Programa para graficar una línea recta, con base en la ecuación y = mx+b\n",
        "# m es la pendiente de la recta\n",
        "#b es el punto de corte con el eje y\n",
        "\n",
        "# Número de puntos a graficar \n",
        "N = 100\n",
        "\n",
        "# Función para calcular los valores de y\n",
        "def funcion_lineal(m,b,x):\n",
        "  return m*x + b\n",
        "\n",
        "# Input\n",
        "print(\"--------------------------------\")\n",
        "print(\"------- FUNCIÓN  LINEAL --------\")\n",
        "print(\"---------- y = mx + b ----------\")\n",
        "print(\"--------------------------------\")\n",
        "\n",
        "m = int(input(\"Digite el valor de la pendiente:\"))\n",
        "b = int(input(\"Digite el valor del punto de corte con el eje y: \"))\n",
        "\n",
        "#Processing - Graphication\n",
        "x = np.linspace(-10,10,num=N)\n",
        "y = funcion_lineal(m,b,x)\n",
        "\n",
        "plt.plot(x,y, color=\"r\")\n",
        "plt.xlabel(\"x\")\n",
        "plt.ylabel(\"y\")\n",
        "plt.title(\"Función lineal: y = mx + b \")\n",
        "plt.grid()\n",
        "plt.axhline(y=0, color=\"b\")\n",
        "plt.axvline(x=0, color=\"b\")\n",
        "plt.show()"
      ],
      "metadata": {
        "colab": {
          "base_uri": "https://localhost:8080/",
          "height": 339
        },
        "id": "_PNySD7WGLkQ",
        "outputId": "39adfd3d-2a33-4570-ab19-b28de986a10d"
      },
      "execution_count": 61,
      "outputs": [
        {
          "name": "stdout",
          "output_type": "stream",
          "text": [
            "--------------------------------\n",
            "------- FUNCIÓN  LINEAL --------\n",
            "---------- y = mx + b ----------\n",
            "--------------------------------\n",
            "Digite el valor de la pendiente:10\n",
            "Digite el valor del punto de corte con el eje y: 5\n"
          ]
        },
        {
          "output_type": "error",
          "ename": "NameError",
          "evalue": "ignored",
          "traceback": [
            "\u001b[0;31m---------------------------------------------------------------------------\u001b[0m",
            "\u001b[0;31mNameError\u001b[0m                                 Traceback (most recent call last)",
            "\u001b[0;32m<ipython-input-61-29e68f6b37ef>\u001b[0m in \u001b[0;36m<module>\u001b[0;34m\u001b[0m\n\u001b[1;32m     20\u001b[0m \u001b[0;34m\u001b[0m\u001b[0m\n\u001b[1;32m     21\u001b[0m \u001b[0;31m#Processing - Graphication\u001b[0m\u001b[0;34m\u001b[0m\u001b[0;34m\u001b[0m\u001b[0;34m\u001b[0m\u001b[0m\n\u001b[0;32m---> 22\u001b[0;31m \u001b[0mx\u001b[0m \u001b[0;34m=\u001b[0m \u001b[0mnp\u001b[0m\u001b[0;34m.\u001b[0m\u001b[0mlinspace\u001b[0m\u001b[0;34m(\u001b[0m\u001b[0;34m-\u001b[0m\u001b[0;36m10\u001b[0m\u001b[0;34m,\u001b[0m\u001b[0;36m10\u001b[0m\u001b[0;34m,\u001b[0m\u001b[0mnum\u001b[0m\u001b[0;34m=\u001b[0m\u001b[0mN\u001b[0m\u001b[0;34m)\u001b[0m\u001b[0;34m\u001b[0m\u001b[0;34m\u001b[0m\u001b[0m\n\u001b[0m\u001b[1;32m     23\u001b[0m \u001b[0my\u001b[0m \u001b[0;34m=\u001b[0m \u001b[0mfuncion_lineal\u001b[0m\u001b[0;34m(\u001b[0m\u001b[0mm\u001b[0m\u001b[0;34m,\u001b[0m\u001b[0mb\u001b[0m\u001b[0;34m,\u001b[0m\u001b[0mx\u001b[0m\u001b[0;34m)\u001b[0m\u001b[0;34m\u001b[0m\u001b[0;34m\u001b[0m\u001b[0m\n\u001b[1;32m     24\u001b[0m \u001b[0;34m\u001b[0m\u001b[0m\n",
            "\u001b[0;31mNameError\u001b[0m: name 'np' is not defined"
          ]
        }
      ]
    }
  ]
}