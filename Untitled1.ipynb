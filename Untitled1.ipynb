{
  "nbformat": 4,
  "nbformat_minor": 0,
  "metadata": {
    "colab": {
      "provenance": [],
      "authorship_tag": "ABX9TyMeoe6HcpvXYqBkwGCoviEW",
      "include_colab_link": true
    },
    "kernelspec": {
      "name": "python3",
      "display_name": "Python 3"
    },
    "language_info": {
      "name": "python"
    }
  },
  "cells": [
    {
      "cell_type": "markdown",
      "metadata": {
        "id": "view-in-github",
        "colab_type": "text"
      },
      "source": [
        "<a href=\"https://colab.research.google.com/github/ivanRamiro05/grsficadora-de-funciones/blob/main/Untitled1.ipynb\" target=\"_parent\"><img src=\"https://colab.research.google.com/assets/colab-badge.svg\" alt=\"Open In Colab\"/></a>"
      ]
    },
    {
      "cell_type": "markdown",
      "source": [
        "Grafica de una funcion lineal\n"
      ],
      "metadata": {
        "id": "hze6vY2-B9OR"
      }
    },
    {
      "cell_type": "code",
      "source": [
        "#importamos la libreris matploclib y numpy y le saignamos un alias\n",
        "import numpy as np\n",
        "import matplotlib.pyplot as plt\n"
      ],
      "metadata": {
        "id": "6oSTDJ8GCCrp"
      },
      "execution_count": null,
      "outputs": []
    },
    {
      "cell_type": "code",
      "source": [
        "# Programa para graficar una línea recta, con base en la ecuación y = mx+b\n",
        "# m es la pendiente de la recta\n",
        "#b es el punto de corte con el eje y\n",
        "\n",
        "# Número de puntos a graficar \n",
        "N = 100\n",
        "\n",
        "# Función para calcular los valores de y\n",
        "def funcion_lineal(m,b,x):\n",
        "  return m*x + b\n",
        "\n",
        "# Input\n",
        "print(\"--------------------------------\")\n",
        "print(\"------- FUNCIÓN  LINEAL --------\")\n",
        "print(\"---------- y = mx + b ----------\")\n",
        "print(\"--------------------------------\")\n",
        "\n",
        "m = int(input(\"Digite el valor de la pendiente:\"))\n",
        "b = int(input(\"Digite el valor del punto de corte con el eje y: \"))\n",
        "\n",
        "#Processing - Graphication\n",
        "x = np.linspace(-10,10,num=N)\n",
        "y = funcion_lineal(m,b,x)\n",
        "\n",
        "plt.plot(x,y, color=\"r\")\n",
        "plt.xlabel(\"x\")\n",
        "plt.ylabel(\"y\")\n",
        "plt.title(\"Función lineal: y = mx + b \")\n",
        "plt.grid()\n",
        "plt.axhline(y=0, color=\"b\")\n",
        "plt.axvline(x=0, color=\"b\")\n",
        "plt.show()"
      ],
      "metadata": {
        "id": "fCDYKhMuCYmf",
        "colab": {
          "base_uri": "https://localhost:8080/"
        },
        "outputId": "ce4be027-e475-4496-c160-047ea54cf6ef"
      },
      "execution_count": null,
      "outputs": [
        {
          "metadata": {
            "tags": null
          },
          "name": "stdout",
          "output_type": "stream",
          "text": [
            "--------------------------------\n",
            "------- FUNCIÓN  LINEAL --------\n",
            "---------- y = mx + b ----------\n",
            "--------------------------------\n"
          ]
        }
      ]
    },
    {
      "cell_type": "markdown",
      "source": [
        "Bienvenido al la grafica de la forma"
      ],
      "metadata": {
        "id": "lO2kUXdkF4ln"
      }
    },
    {
      "cell_type": "code",
      "source": [
        "#funciones graficadoras\n",
        "print(\"-----------------------------\")\n",
        "print(\"---Graficadora de funciones--\")\n",
        "print(\"-----------------------------\")\n",
        "print(\"1.Funcion lineal\")\n",
        "print(\"2.Funcion cuadratica\")\n",
        "print(\"3.Funcion cubica\")\n",
        "print(\"4.Funcion exponencial\")\n",
        "print(\"5.funcion logaritmica\")\n",
        "print(\"6.Funcion trigonometrica\")\n",
        "graficador=int(input(\"¿De las opciones desplegadas en el menu cual te gustaria usar?\"))\n",
        "if graficador==1:\n",
        "  # Programa para graficar una línea recta, con base en la ecuación y = mx+b\n",
        "  # m es la pendiente de la recta\n",
        "  #b es el punto de corte con el eje y\n",
        "\n",
        "  # Número de puntos a graficar \n",
        "  N = 100\n",
        "\n",
        "  # Función para calcular los valores de y\n",
        "  def funcion_lineal(m,b,x):\n",
        "    return m*x + b\n",
        "\n",
        "  # Input\n",
        "  print(\"--------------------------------\")\n",
        "  print(\"------- FUNCIÓN  LINEAL --------\")\n",
        "  print(\"---------- y = mx + b ----------\")\n",
        "  print(\"--------------------------------\")\n",
        "\n",
        "  m = int(input(\"Digite el valor de la pendiente:\"))\n",
        "  b = int(input(\"Digite el valor del punto de corte con el eje y: \"))\n",
        "\n",
        "  #Processing - Graphication\n",
        "  x = np.linspace(-10,10,num=N)\n",
        "  y = funcion_lineal(m,b,x)\n",
        "\n",
        "  plt.plot(x,y, color=\"r\")\n",
        "  plt.xlabel(\"x\")\n",
        "  plt.ylabel(\"y\")\n",
        "  plt.title(\"Función lineal: y = mx + b \")\n",
        "  plt.grid()\n",
        "  plt.axhline(y=0, color=\"b\")\n",
        "  plt.axvline(x=0, color=\"b\")\n",
        "  plt.show()\n",
        "if graficador==2:\n",
        "  print(\"----------------------------------\")\n",
        "  print (\"------- FUNCIÓN  CUADRATICA -----\")\n",
        "  print (\"---------- Y= aX**2 +bx +c  -----\")\n",
        "  print(\"----------------------------------\")\n",
        "\n",
        "  def funcion_cuadratica(a,b,c):\n",
        "    return a*x**2 + b*x +c\n",
        "  a= int(input(\"Digite el valor del coehficiente que acompaña a  x**2: \"))\n",
        "  b= int(input(\"Digite el valor del coehficiente que acompaña a  x: \"))\n",
        "  c=int(input(\"Digite el valor independiente\"))\n",
        "  #Processing - Graphication\n",
        "\n",
        "  x = np.linspace(-10,10,num=N)\n",
        "  y = funcion_cuadratica(a,b,c)\n",
        "\n",
        "  plt.plot(x,y, color=\"r\")\n",
        "  plt.xlabel(\"x\")\n",
        "  plt.ylabel(\"y\")\n",
        "  plt.title(\"Función lineal: y = x**2+ bx +c \")\n",
        "  plt.grid()\n",
        "  plt.axhline(y=0, color=\"b\")\n",
        "  plt.axvline(x=0, color=\"b\")\n",
        "  plt.show()\n",
        "if graficador ==3:\n",
        "  print(\"----------------------------------\")\n",
        "  print (\"------- FUNCIÓN  CUBICA -------\")\n",
        "  print (\"---------- Y= aX**2 +bx +c  -----\")\n",
        "  print(\"----------------------------------\")\n",
        "\n",
        "  def funcion_cubica(a,b,c):\n",
        "    return a*x**3 + b*x**2 +cx +d\n",
        "  a= int(input(\"Digite el valor del coehficiente que acompaña a  x**3: \"))\n",
        "  b= int(input(\"Digite el valor del coehficiente que acompaña a  x**2: \"))\n",
        "  c= int(input(\"Digite el valor del coehficiente que acompaña a  x: \"))\n",
        "  d=int(input(\"Digite el valor independiente\"))\n",
        "  #Processing - Graphication\n",
        "\n",
        "  x = np.linspace(-10,10,num=N)\n",
        "  y = funcion_cubica(a,b,c,d)\n",
        "\n",
        "  plt.plot(x,y, color=\"r\")\n",
        "  plt.xlabel(\"x\")\n",
        "  plt.ylabel(\"y\")\n",
        "  plt.title(\"Función lineal: y = x**2+ bx +c \")\n",
        "  plt.grid()\n",
        "  plt.axhline(y=0, color=\"b\")\n",
        "  plt.axvline(x=0, color=\"b\")\n",
        "  plt.show()\n",
        "if graficador == 4:\n",
        "  def funcion_exponencial(a):\n",
        "    return a**x\n",
        "  a= int(input(\"Digite la base de la funcion exponencial: \"))\n",
        "  #Processing - Graphication\n",
        "\n",
        "  x = np.linspace(-10,10,num=N)\n",
        "  y = funcion_cubica(a)\n",
        "\n",
        "  plt.plot(x,y, color=\"r\")\n",
        "  plt.xlabel(\"x\")\n",
        "  plt.ylabel(\"y\")\n",
        "  plt.title(\"Función lineal: y = x**2+ bx +c \")\n",
        "  plt.grid()\n",
        "  plt.axhline(y=0, color=\"b\")\n",
        "  plt.axvline(x=0, color=\"b\")\n",
        "  plt.show()\n",
        "\n"
      ],
      "metadata": {
        "id": "DkrRaYHVJHsB"
      },
      "execution_count": null,
      "outputs": []
    }
  ]
}